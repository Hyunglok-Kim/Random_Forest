{
  "nbformat": 4,
  "nbformat_minor": 0,
  "metadata": {
    "colab": {
      "name": "basic_RF.ipynb",
      "provenance": [],
      "authorship_tag": "ABX9TyPVVXJ6fjH6KBAJ0naGPa3v",
      "include_colab_link": true
    },
    "kernelspec": {
      "name": "python3",
      "display_name": "Python 3"
    },
    "language_info": {
      "name": "python"
    }
  },
  "cells": [
    {
      "cell_type": "markdown",
      "metadata": {
        "id": "view-in-github",
        "colab_type": "text"
      },
      "source": [
        "<a href=\"https://colab.research.google.com/github/Hyunglok-Kim/Random_Forest/blob/main/basic_RF.ipynb\" target=\"_parent\"><img src=\"https://colab.research.google.com/assets/colab-badge.svg\" alt=\"Open In Colab\"/></a>"
      ]
    },
    {
      "cell_type": "code",
      "metadata": {
        "id": "q4PEAGMa8WDU"
      },
      "source": [
        "asdf\n",
        "asdf\n",
        "asdfsd\n",
        "fd\n",
        "fd\n",
        "fs\n"
      ],
      "execution_count": null,
      "outputs": []
    }
  ]
}